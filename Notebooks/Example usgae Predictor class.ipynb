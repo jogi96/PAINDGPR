{
 "cells": [
  {
   "cell_type": "markdown",
   "id": "d76066c3",
   "metadata": {},
   "source": [
    "## Testing if Packages are working\n"
   ]
  },
  {
   "cell_type": "code",
   "execution_count": 1,
   "id": "8c54a1a0",
   "metadata": {},
   "outputs": [
    {
     "name": "stdout",
     "output_type": "stream",
     "text": [
      "\n",
      "Found https://ultralytics.com/images/bus.jpg locally at bus.jpg\n",
      "image 1/1 c:\\pythonad\\PAIND_Datreader\\bus.jpg: 640x480 4 persons, 1 bus, 142.1ms\n",
      "Speed: 30.0ms preprocess, 142.1ms inference, 15.0ms postprocess per image at shape (1, 3, 640, 480)\n"
     ]
    }
   ],
   "source": [
    "import numpy as np\n",
    "from ultralytics import YOLO\n",
    "\n",
    "\n",
    "# Modell laden (z. B. kleine Version)\n",
    "model = YOLO(\"yolo11n.pt\")\n",
    "\n",
    "# Test-Inferenz auf einem Beispielbild\n",
    "results = model(\"https://ultralytics.com/images/bus.jpg\")\n",
    "results[0].show()\n"
   ]
  },
  {
   "cell_type": "markdown",
   "id": "680c636b",
   "metadata": {},
   "source": [
    "## Testing Model with Dataset from Roboflow on impbautech AG data"
   ]
  },
  {
   "cell_type": "markdown",
   "id": "3780d099",
   "metadata": {},
   "source": [
    "### Manual testing directly with yolo model\n"
   ]
  },
  {
   "cell_type": "code",
   "execution_count": null,
   "id": "00177dde",
   "metadata": {},
   "outputs": [],
   "source": [
    "import numpy as np\n",
    "from ultralytics import YOLO"
   ]
  },
  {
   "cell_type": "code",
   "execution_count": 3,
   "id": "6f21a8a1",
   "metadata": {},
   "outputs": [
    {
     "name": "stdout",
     "output_type": "stream",
     "text": [
      "\n",
      "image 1/1 c:\\vscode\\PAIND\\Data\\Testdata\\pictures\\frame_0.jpg: 448x640 2 hyperbolas, 75.0ms\n",
      "Speed: 2.3ms preprocess, 75.0ms inference, 2.0ms postprocess per image at shape (1, 3, 448, 640)\n",
      "Results saved to \u001b[1mC:\\vscode\\PAIND\\Notebooks\\runs\\detect\\predict\u001b[0m\n",
      "<class 'ultralytics.engine.results.Results'>\n"
     ]
    }
   ],
   "source": [
    "model = YOLO(YOLO_MODEL_DIR)  # load a custom model\n",
    "results = model.predict(TEST_PIC_DIR / \"frame_0.jpg\",save=True, conf=0.2)  # predict on an image\n",
    "print(type(results[0]))  # print results to terminal"
   ]
  },
  {
   "cell_type": "markdown",
   "id": "a3727796",
   "metadata": {},
   "source": [
    "## Testing with Predictor Class "
   ]
  },
  {
   "cell_type": "markdown",
   "id": "26de7d74",
   "metadata": {},
   "source": [
    "### Import configfile for paths"
   ]
  },
  {
   "cell_type": "code",
   "execution_count": 1,
   "id": "59ac47ce",
   "metadata": {},
   "outputs": [],
   "source": [
    "import sys\n",
    "from pathlib import Path\n",
    "sys.path.append(str(Path.cwd().parent))\n",
    "from config import *"
   ]
  },
  {
   "cell_type": "markdown",
   "id": "315f7afe",
   "metadata": {},
   "source": [
    "### import Predictor Class"
   ]
  },
  {
   "cell_type": "code",
   "execution_count": 2,
   "id": "05c598d2",
   "metadata": {},
   "outputs": [],
   "source": [
    "from Pipeline.Predictor import Predictor"
   ]
  },
  {
   "cell_type": "markdown",
   "id": "f57544bb",
   "metadata": {},
   "source": [
    "### Making Prediction and extract Bounding boxes"
   ]
  },
  {
   "cell_type": "code",
   "execution_count": 3,
   "id": "12a4452c",
   "metadata": {},
   "outputs": [],
   "source": [
    "predictor = Predictor(model_path=YOLO_MODEL_DIR,conf =0.2, x_max=11, y_max=20)\n",
    "#bboxes = predictor.extract_bboxes(r\"C:\\Users\\Joris Gisler\\OneDrive - Hochschule Luzern\\Studium\\HS25\\PAIND\\Daten\\Testdata\\frame_0.jpg\")\n",
    "\n",
    "#print(bboxes)"
   ]
  },
  {
   "cell_type": "code",
   "execution_count": 5,
   "id": "8e1ebe9b",
   "metadata": {},
   "outputs": [
    {
     "name": "stdout",
     "output_type": "stream",
     "text": [
      "\n",
      "image 1/1 c:\\vscode\\PAINDGPR\\Data\\Testdata\\pictures\\frame_0.jpg: 448x640 2 hyperbolas, 75.0ms\n",
      "Speed: 22.0ms preprocess, 75.0ms inference, 1.1ms postprocess per image at shape (1, 3, 448, 640)\n",
      "[array([     172.71,      48.751], dtype=float32), array([     241.69,      44.851], dtype=float32)]\n"
     ]
    }
   ],
   "source": [
    "## getting the vertex of the bounding boxes\n",
    "scaled_verteces, verticels, bboxes = predictor.predict_and_scale(TEST_PIC_DIR / \"frame_0.jpg\")\n",
    "#print(verticels)\n",
    "predictor.plot_detected_points(TEST_PIC_DIR / \"frame_0.jpg\", verticels)\n"
   ]
  },
  {
   "cell_type": "markdown",
   "id": "d2f128de",
   "metadata": {},
   "source": []
  },
  {
   "cell_type": "markdown",
   "id": "d46c5d01",
   "metadata": {},
   "source": [
    "## Testing Video Cutter"
   ]
  },
  {
   "cell_type": "code",
   "execution_count": 12,
   "id": "b5d5754d",
   "metadata": {},
   "outputs": [],
   "source": [
    "from Videocutter.Video_cutter import Video_Cutter"
   ]
  },
  {
   "cell_type": "code",
   "execution_count": 3,
   "id": "b5990c8f",
   "metadata": {},
   "outputs": [
    {
     "name": "stdout",
     "output_type": "stream",
     "text": [
      "Original video FPS: 24.0\n",
      "Extracting every 6th frame (~4 FPS)\n",
      "72 Frames saved in 'C:\\Users\\Joris Gisler\\OneDrive - Hochschule Luzern\\Studium\\HS25\\PAIND\\Daten\\Testdata'\n"
     ]
    }
   ],
   "source": [
    "cutter = Video_Cutter(video_path=r\"C:\\Users\\Joris Gisler\\OneDrive - Hochschule Luzern\\Studium\\HS25\\PAIND\\Daten\\Videos\\EG_quer_y-cut (2).mpg\", output_path=r\"C:\\Users\\Joris Gisler\\OneDrive - Hochschule Luzern\\Studium\\HS25\\PAIND\\Daten\\Testdata\", target_fps=4)\n",
    "cutter.cut_video()"
   ]
  }
 ],
 "metadata": {
  "kernelspec": {
   "display_name": "PAINDHS25",
   "language": "python",
   "name": "python3"
  },
  "language_info": {
   "codemirror_mode": {
    "name": "ipython",
    "version": 3
   },
   "file_extension": ".py",
   "mimetype": "text/x-python",
   "name": "python",
   "nbconvert_exporter": "python",
   "pygments_lexer": "ipython3",
   "version": "3.13.5"
  }
 },
 "nbformat": 4,
 "nbformat_minor": 5
}
