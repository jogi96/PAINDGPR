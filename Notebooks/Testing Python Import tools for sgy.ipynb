{
 "cells": [
  {
   "cell_type": "markdown",
   "id": "68ed78ab",
   "metadata": {},
   "source": [
    "## Testing Python Tools for importing GPR Data"
   ]
  },
  {
   "cell_type": "markdown",
   "id": "4fa24e66",
   "metadata": {},
   "source": [
    "#### Here we tested diffrent import tools for sgy data to import in Python and trying to recreate the Radargramm \\n \n",
    "- Chapter 1: Testing obspy\n",
    "- Chapter 2: Testing segyio"
   ]
  },
  {
   "cell_type": "markdown",
   "id": "5fbdda57",
   "metadata": {},
   "source": [
    "### Chapter 1: obspy"
   ]
  },
  {
   "cell_type": "markdown",
   "id": "162da8d3",
   "metadata": {},
   "source": [
    "##### First we try to load the sgy files\n",
    "**Note: We had to manaully upload the sgy files because some are to large to handle for GitHub** \\\n",
    "That the code works it is best to upload the File into the Folder **Data/Testdata/Files**"
   ]
  },
  {
   "cell_type": "code",
   "execution_count": null,
   "id": "7fa495a8",
   "metadata": {},
   "outputs": [],
   "source": [
    "#Importing used Packages to load the File\n",
    "import sys\n",
    "from pathlib import Path\n",
    "\n",
    "#Setting Working directory\n",
    "sys.path.append(str(Path.cwd().parent))\n",
    "\n",
    "#Import the config file so that only the Filename needs to be changed in the _read_segy function\n",
    "from config import *\n",
    "\n",
    "from obspy.io.segy.segy import _read_segy\n",
    "\n",
    "# load segy\n",
    "st = _read_segy(TEST_FILE_DIR / \"UG3DQUERUNTERZUG.SGY\")\n",
    "\n",
    "\n",
    "\n",
    "\n",
    "\n"
   ]
  },
  {
   "cell_type": "markdown",
   "id": "1491e46a",
   "metadata": {},
   "source": [
    "#### Get Binary Header information\n",
    ".....Explaination pending"
   ]
  },
  {
   "cell_type": "code",
   "execution_count": 23,
   "id": "6f405eb2",
   "metadata": {},
   "outputs": [
    {
     "name": "stdout",
     "output_type": "stream",
     "text": [
      "Binary File Header:\n",
      "\tjob_identification_number: 0\n",
      "\tline_number: 0\n",
      "\treel_number: 0\n",
      "\tnumber_of_data_traces_per_ensemble: 1\n",
      "\tnumber_of_auxiliary_traces_per_ensemble: 0\n",
      "\tsample_interval_in_microseconds: 49\n",
      "\tsample_interval_in_microseconds_of_original_field_recording: 0\n",
      "\tnumber_of_samples_per_data_trace: 400\n",
      "\tnumber_of_samples_per_data_trace_for_original_field_recording: 0\n",
      "\tdata_sample_format_code: 3\n",
      "\tensemble_fold: 1\n",
      "\ttrace_sorting_code: 0\n",
      "\tvertical_sum_code: 0\n",
      "\tsweep_frequency_at_start: 0\n",
      "\tsweep_frequency_at_end: 0\n",
      "\tsweep_length: 0\n",
      "\tsweep_type_code: 0\n",
      "\ttrace_number_of_sweep_channel: 0\n",
      "\tsweep_trace_taper_length_in_ms_at_start: 0\n",
      "\tsweep_trace_taper_length_in_ms_at_end: 0\n",
      "\ttaper_type: 0\n",
      "\tcorrelated_data_traces: 0\n",
      "\tbinary_gain_recovered: 0\n",
      "\tamplitude_recovery_method: 0\n",
      "\tmeasurement_system: 1\n",
      "\timpulse_signal_polarity: 0\n",
      "\tvibratory_polarity_code: 0\n",
      "\tunassigned_1: b'\\x00\\x00\\x00\\x00\\x00\\x00\\x00\\x00\\x00\\x00\\x00\\x00\\x00\\x00\\x00\\x00\\x00\\x00\\x00\\x00\\x00\\x00\\x00\\x00\\x00\\x00\\x00\\x00\\x00\\x00\\x00\\x00\\x00\\x00\\x00\\x00\\x00\\x00\\x00\\x00\\x00\\x00\\x00\\x00\\x00\\x00\\x00\\x00\\x00\\x00\\x00\\x00\\x00\\x00\\x00\\x00\\x00\\x00\\x00\\x00\\x00\\x00\\x00\\x00\\x00\\x00\\x00\\x00\\x00\\x00\\x00\\x00\\x00\\x00\\x00\\x00\\x00\\x00\\x00\\x00\\x00\\x00\\x00\\x00\\x00\\x00\\x00\\x00\\x00\\x00\\x00\\x00\\x00\\x00\\x00\\x00\\x00\\x00\\x00\\x00\\x00\\x00\\x00\\x00\\x00\\x00\\x00\\x00\\x00\\x00\\x00\\x00\\x00\\x00\\x00\\x00\\x00\\x00\\x00\\x00\\x00\\x00\\x00\\x00\\x00\\x00\\x00\\x00\\x00\\x00\\x00\\x00\\x00\\x00\\x00\\x00\\x00\\x00\\x00\\x00\\x00\\x00\\x00\\x00\\x00\\x00\\x00\\x00\\x00\\x00\\x00\\x00\\x00\\x00\\x00\\x00\\x00\\x00\\x00\\x00\\x00\\x00\\x00\\x00\\x00\\x00\\x00\\x00\\x00\\x00\\x00\\x00\\x00\\x00\\x00\\x00\\x00\\x00\\x00\\x00\\x00\\x00\\x00\\x00\\x00\\x00\\x00\\x00\\x00\\x00\\x00\\x00\\x00\\x00\\x00\\x00\\x00\\x00\\x00\\x00\\x00\\x00\\x00\\x00\\x00\\x00\\x00\\x00\\x00\\x00\\x00\\x00\\x00\\x00\\x00\\x00\\x00\\x00\\x00\\x00\\x00\\x00\\x00\\x00\\x00\\x00\\x00\\x00\\x00\\x00\\x00\\x00\\x00\\x00\\x00\\x00\\x00\\x00\\x00\\x00'\n",
      "\tseg_y_format_revision_number: 0\n",
      "\tfixed_length_trace_flag: 0\n",
      "\tnumber_of_3200_byte_ext_file_header_records_following: 0\n",
      "\tunassigned_2: b'\\x00\\x00\\x00\\x00\\x00\\x00\\x00\\x00\\x00\\x00\\x00\\x00\\x00\\x00\\x00\\x00\\x00\\x00\\x00\\x00\\x00\\x00\\x00\\x00\\x00\\x00\\x00\\x00\\x00\\x00\\x00\\x00\\x00\\x00\\x00\\x00\\x00\\x00\\x00\\x00\\x00\\x00\\x00\\x00\\x00\\x00\\x00\\x00\\x00\\x00\\x00\\x00\\x00\\x00\\x00\\x00\\x00\\x00\\x00\\x00\\x00\\x00\\x00\\x00\\x00\\x00\\x00\\x00\\x00\\x00\\x00\\x00\\x00\\x00\\x00\\x00\\x00\\x00\\x00\\x00\\x00\\x00\\x00\\x00\\x00\\x00\\x00\\x00\\x00\\x00\\x00\\x00\\x00\\x00'\n"
     ]
    }
   ],
   "source": [
    "binary_header = st.binary_file_header\n",
    "print(binary_header)"
   ]
  },
  {
   "cell_type": "markdown",
   "id": "c89074aa",
   "metadata": {},
   "source": [
    "#### Get Trace Header Information\n",
    "....Explanation pending"
   ]
  },
  {
   "cell_type": "code",
   "execution_count": null,
   "id": "9070b44a",
   "metadata": {},
   "outputs": [
    {
     "data": {
      "text/plain": [
       "trace_sequence_number_within_line: 1\n",
       "trace_sequence_number_within_segy_file: 1\n",
       "original_field_record_number: 1\n",
       "trace_number_within_the_original_field_record: 1\n",
       "energy_source_point_number: 1\n",
       "ensemble_number: 1\n",
       "trace_number_within_the_ensemble: 0\n",
       "trace_identification_code: 1\n",
       "number_of_vertically_summed_traces_yielding_this_trace: 0\n",
       "number_of_horizontally_stacked_traces_yielding_this_trace: 0\n",
       "data_use: 0\n",
       "distance_from_center_of_the_source_point_to_the_center_of_the_receiver_group: 0\n",
       "receiver_group_elevation: 0\n",
       "surface_elevation_at_source: 0\n",
       "source_depth_below_surface: 0\n",
       "datum_elevation_at_receiver_group: 0\n",
       "datum_elevation_at_source: 0\n",
       "water_depth_at_source: 0\n",
       "water_depth_at_group: 0\n",
       "scalar_to_be_applied_to_all_elevations_and_depths: 1\n",
       "scalar_to_be_applied_to_all_coordinates: 1\n",
       "source_coordinate_x: 0\n",
       "source_coordinate_y: 0\n",
       "group_coordinate_x: 0\n",
       "group_coordinate_y: 0\n",
       "coordinate_units: 0\n",
       "weathering_velocity: 0\n",
       "subweathering_velocity: 0\n",
       "uphole_time_at_source_in_ms: 0\n",
       "uphole_time_at_group_in_ms: 0\n",
       "source_static_correction_in_ms: 0\n",
       "group_static_correction_in_ms: 0\n",
       "total_static_applied_in_ms: 0\n",
       "lag_time_A: 0\n",
       "lag_time_B: 0\n",
       "delay_recording_time: 0\n",
       "mute_time_start_time_in_ms: 0\n",
       "mute_time_end_time_in_ms: 0\n",
       "number_of_samples_in_this_trace: 400\n",
       "sample_interval_in_ms_for_this_trace: 49\n",
       "gain_type_of_field_instruments: 0\n",
       "instrument_gain_constant: 0\n",
       "instrument_early_or_initial_gain: 0\n",
       "correlated: 0\n",
       "sweep_frequency_at_start: 0\n",
       "sweep_frequency_at_end: 0\n",
       "sweep_length_in_ms: 0\n",
       "sweep_type: 0\n",
       "sweep_trace_taper_length_at_start_in_ms: 0\n",
       "sweep_trace_taper_length_at_end_in_ms: 0\n",
       "taper_type: 0\n",
       "alias_filter_frequency: 0\n",
       "alias_filter_slope: 0\n",
       "notch_filter_frequency: 0\n",
       "notch_filter_slope: 0\n",
       "low_cut_frequency: 0\n",
       "high_cut_frequency: 0\n",
       "low_cut_slope: 0\n",
       "high_cut_slope: 0\n",
       "year_data_recorded: 0\n",
       "day_of_year: 0\n",
       "hour_of_day: 0\n",
       "minute_of_hour: 0\n",
       "second_of_minute: 0\n",
       "time_basis_code: 0\n",
       "trace_weighting_factor: 0\n",
       "geophone_group_number_of_roll_switch_position_one: 0\n",
       "geophone_group_number_of_trace_number_one: 0\n",
       "geophone_group_number_of_last_trace: 0\n",
       "gap_size: 0\n",
       "over_travel_associated_with_taper: 0\n",
       "x_coordinate_of_ensemble_position_of_this_trace: 0\n",
       "y_coordinate_of_ensemble_position_of_this_trace: 0\n",
       "for_3d_poststack_data_this_field_is_for_in_line_number: 1\n",
       "for_3d_poststack_data_this_field_is_for_cross_line_number: 1\n",
       "shotpoint_number: 0\n",
       "scalar_to_be_applied_to_the_shotpoint_number: 0\n",
       "trace_value_measurement_unit: 0\n",
       "transduction_constant_mantissa: 0\n",
       "transduction_constant_exponent: 0\n",
       "transduction_units: 0\n",
       "device_trace_identifier: 0\n",
       "scalar_to_be_applied_to_times: 0\n",
       "source_type_orientation: 0\n",
       "source_energy_direction_mantissa: 0\n",
       "source_energy_direction_exponent: 0\n",
       "source_measurement_mantissa: 0\n",
       "source_measurement_exponent: 0\n",
       "source_measurement_unit: 0\n"
      ]
     },
     "execution_count": 37,
     "metadata": {},
     "output_type": "execute_result"
    }
   ],
   "source": [
    "st.traces[0].header\n"
   ]
  },
  {
   "cell_type": "markdown",
   "id": "b3ac2ee0",
   "metadata": {},
   "source": [
    "#### Generate a csv File with the Inlines and Crosslines\n",
    "This makes it easier to Plot afterwards the Radargramms and also its easier to acces the Information"
   ]
  },
  {
   "cell_type": "code",
   "execution_count": null,
   "id": "99ecdaa2",
   "metadata": {},
   "outputs": [
    {
     "name": "stdout",
     "output_type": "stream",
     "text": [
      "   trace  inline  crossline                                          Amplitude\n",
      "0      1       1          1  [-20228, -14833, -12170, -9433, -11480, -12543...\n",
      "1      2       1          2  [-19524, -15504, -13631, -10211, -10939, -1103...\n",
      "2      3       1          3  [-18915, -16373, -15126, -10702, -10026, -9497...\n",
      "3      4       1          4  [-18675, -16565, -15221, -10267, -9359, -9442,...\n",
      "4      5       1          5  [-17714, -17046, -16254, -10498, -8612, -8687,...\n"
     ]
    }
   ],
   "source": [
    "import pandas as pd\n",
    "rows= []\n",
    "\n",
    "for i, trace in enumerate(st.traces):\n",
    "    number = st.traces[i].header.trace_sequence_number_within_segy_file\n",
    "    amp = st.traces[i].data\n",
    "    inl = st.traces[i].header.for_3d_poststack_data_this_field_is_for_in_line_number\n",
    "    cross = st.traces[i].header.for_3d_poststack_data_this_field_is_for_cross_line_number\n",
    "    rows.append({\n",
    "        \"trace\": number,\n",
    "        \"inline\": inl,\n",
    "        \"crossline\": cross,\n",
    "        \"Amplitude\": amp\n",
    "    })\n",
    "df = pd.DataFrame(rows)\n",
    "df.to_csv(\"inline_crossline_obspy.csv\", index =False)\n",
    "print(df.head())\n",
    "\n",
    "\n"
   ]
  },
  {
   "cell_type": "markdown",
   "id": "8c07cef5",
   "metadata": {},
   "source": [
    "#### Plotting de Inlines and the Crosslines\n",
    "This is useful beacause we can see then if the sgy is real 3d data or pseudo 3d or just 2d."
   ]
  },
  {
   "cell_type": "code",
   "execution_count": null,
   "id": "e1c44c56",
   "metadata": {},
   "outputs": [
    {
     "data": {
      "image/png": "[encoded data removed]",
      "text/plain": [
       "<Figure size 800x600 with 1 Axes>"
      ]
     },
     "metadata": {},
     "output_type": "display_data"
    }
   ],
   "source": [
    "\n",
    "\n",
    "import matplotlib.pyplot as plt\n",
    "\n",
    "cross = 40\n",
    "df2 = df.sort_values([\"inline\", \"crossline\"]) \\\n",
    "        .groupby(\"inline\") \\\n",
    "        .head(cross)\n",
    "\n",
    "plt.figure(figsize=(8,6))\n",
    "plt.scatter(df2[\"inline\"], df2[\"crossline\"], s=30)\n",
    "plt.xlabel(\"Inline\")\n",
    "plt.ylabel(\"Crossline\")\n",
    "plt.title(f\"only {cross} Crosslines per Line (GRID-TEST)\")\n",
    "plt.show()\n",
    "\n"
   ]
  },
  {
   "cell_type": "markdown",
   "id": "d8c664a2",
   "metadata": {},
   "source": [
    "## Chapter 2 Segyio package\n",
    "we make the exact same steps as with the obspy package"
   ]
  },
  {
   "cell_type": "markdown",
   "id": "8c9c439d",
   "metadata": {},
   "source": [
    "##### First we try to load the sgy files"
   ]
  },
  {
   "cell_type": "code",
   "execution_count": 63,
   "id": "c5ae8bb8",
   "metadata": {},
   "outputs": [],
   "source": [
    "import segyio\n",
    "import pandas as pd"
   ]
  },
  {
   "cell_type": "code",
   "execution_count": 74,
   "id": "36c0359f",
   "metadata": {},
   "outputs": [],
   "source": [
    "filename = TEST_FILE_DIR / \"EG-3D QUER001.SGY\"\n",
    "f = segyio.open(filename,\"r\", ignore_geometry=True)\n",
    "\n"
   ]
  },
  {
   "cell_type": "markdown",
   "id": "a0a81f5b",
   "metadata": {},
   "source": [
    "#### Lets try again printing the binary header"
   ]
  },
  {
   "cell_type": "code",
   "execution_count": 75,
   "id": "2720291f",
   "metadata": {},
   "outputs": [
    {
     "name": "stdout",
     "output_type": "stream",
     "text": [
      "{JobID: 0, LineNumber: 0, ReelNumber: 0, Traces: 1, AuxTraces: 0, Interval: 49, IntervalOriginal: 0, Samples: 400, SamplesOriginal: 0, Format: 3, EnsembleFold: 1, SortingCode: 0, VerticalSum: 0, SweepFrequencyStart: 0, SweepFrequencyEnd: 0, SweepLength: 0, Sweep: 0, SweepChannel: 0, SweepTaperStart: 0, SweepTaperEnd: 0, Taper: 0, CorrelatedTraces: 0, BinaryGainRecovery: 0, AmplitudeRecovery: 0, MeasurementSystem: 1, ImpulseSignalPolarity: 0, VibratoryPolarity: 0, ExtAuxTraces: 0, ExtSamples: 0, ExtSamplesOriginal: 0, ExtEnsembleFold: 0, SEGYRevision: 0, SEGYRevisionMinor: 0, TraceFlag: 0, ExtendedHeaders: 0}\n"
     ]
    }
   ],
   "source": [
    "print(f.bin)"
   ]
  },
  {
   "cell_type": "markdown",
   "id": "a0a02c15",
   "metadata": {},
   "source": [
    "#### Now lets try again printing a trace header"
   ]
  },
  {
   "cell_type": "markdown",
   "id": "8aeea88d",
   "metadata": {},
   "source": [
    "Here it is more intuitie to intepret the Trace header because its more nice to read"
   ]
  },
  {
   "cell_type": "code",
   "execution_count": 76,
   "id": "b6f09eb7",
   "metadata": {},
   "outputs": [
    {
     "name": "stdout",
     "output_type": "stream",
     "text": [
      "{TRACE_SEQUENCE_LINE: 1, TRACE_SEQUENCE_FILE: 1, FieldRecord: 1, TraceNumber: 1, EnergySourcePoint: 1, CDP: 1, CDP_TRACE: 0, TraceIdentificationCode: 1, NSummedTraces: 0, NStackedTraces: 0, DataUse: 0, offset: 0, ReceiverGroupElevation: 0, SourceSurfaceElevation: 0, SourceDepth: 0, ReceiverDatumElevation: 0, SourceDatumElevation: 0, SourceWaterDepth: 0, GroupWaterDepth: 0, ElevationScalar: 1, SourceGroupScalar: 1, SourceX: 0, SourceY: 0, GroupX: 0, GroupY: 0, CoordinateUnits: 0, WeatheringVelocity: 0, SubWeatheringVelocity: 0, SourceUpholeTime: 0, GroupUpholeTime: 0, SourceStaticCorrection: 0, GroupStaticCorrection: 0, TotalStaticApplied: 0, LagTimeA: 0, LagTimeB: 0, DelayRecordingTime: 0, MuteTimeStart: 0, MuteTimeEND: 0, TRACE_SAMPLE_COUNT: 400, TRACE_SAMPLE_INTERVAL: 49, GainType: 0, InstrumentGainConstant: 0, InstrumentInitialGain: 0, Correlated: 0, SweepFrequencyStart: 0, SweepFrequencyEnd: 0, SweepLength: 0, SweepType: 0, SweepTraceTaperLengthStart: 0, SweepTraceTaperLengthEnd: 0, TaperType: 0, AliasFilterFrequency: 0, AliasFilterSlope: 0, NotchFilterFrequency: 0, NotchFilterSlope: 0, LowCutFrequency: 0, HighCutFrequency: 0, LowCutSlope: 0, HighCutSlope: 0, YearDataRecorded: 0, DayOfYear: 0, HourOfDay: 0, MinuteOfHour: 0, SecondOfMinute: 0, TimeBaseCode: 0, TraceWeightingFactor: 0, GeophoneGroupNumberRoll1: 0, GeophoneGroupNumberFirstTraceOrigField: 0, GeophoneGroupNumberLastTraceOrigField: 0, GapSize: 0, OverTravel: 0, CDP_X: 0, CDP_Y: 0, INLINE_3D: 0, CROSSLINE_3D: 1, ShotPoint: 0, ShotPointScalar: 0, TraceValueMeasurementUnit: 0, TransductionConstantMantissa: 0, TransductionConstantPower: 0, TransductionUnit: 0, TraceIdentifier: 0, ScalarTraceHeader: 0, SourceType: 0, SourceEnergyDirectionMantissa: 0, SourceEnergyDirectionExponent: 0, SourceMeasurementMantissa: 0, SourceMeasurementExponent: 0, SourceMeasurementUnit: 0}\n"
     ]
    }
   ],
   "source": [
    "print(f.header[0])"
   ]
  },
  {
   "cell_type": "markdown",
   "id": "a9bbc8e7",
   "metadata": {},
   "source": [
    "#### We create also a CSV File"
   ]
  },
  {
   "cell_type": "code",
   "execution_count": 77,
   "id": "d3e31442",
   "metadata": {},
   "outputs": [
    {
     "name": "stdout",
     "output_type": "stream",
     "text": [
      "   trace  inline  crossline                                          Amplitude\n",
      "0      0       0          1  [-3779, -4808, -5511, -5421, -7800, -8821, -89...\n",
      "1      1       0          2  [-3556, -4759, -5628, -5542, -7783, -8609, -86...\n",
      "2      2       0          3  [-3445, -4734, -5746, -5699, -7867, -8492, -83...\n",
      "3      3       0          4  [-3323, -4768, -5893, -5817, -7865, -8306, -80...\n",
      "4      4       0          5  [-3376, -4907, -6050, -5876, -7803, -8150, -78...\n"
     ]
    }
   ],
   "source": [
    "\n",
    "\n",
    "rows= []\n",
    "\n",
    "inlines   = f.attributes(segyio.TraceField.INLINE_3D)[:]\n",
    "crosslines = f.attributes(segyio.TraceField.CROSSLINE_3D)[:]\n",
    "\n",
    "for i in range(f.tracecount):\n",
    "    amp = np.array(f.trace[i])\n",
    "    inl = inlines[i]\n",
    "    cross = crosslines[i]\n",
    "    rows.append({\n",
    "        \"trace\": i,\n",
    "        \"inline\": inl,\n",
    "        \"crossline\": cross,\n",
    "        \"Amplitude\": amp\n",
    "    })\n",
    "df = pd.DataFrame(rows)\n",
    "#df.to_csv(\"inline_crossline_segyio.csv\", index =False)\n",
    "print(df.head())\n"
   ]
  },
  {
   "cell_type": "code",
   "execution_count": 82,
   "id": "70604683",
   "metadata": {},
   "outputs": [
    {
     "data": {
      "text/html": [
       "<div>\n",
       "<style scoped>\n",
       "    .dataframe tbody tr th:only-of-type {\n",
       "        vertical-align: middle;\n",
       "    }\n",
       "\n",
       "    .dataframe tbody tr th {\n",
       "        vertical-align: top;\n",
       "    }\n",
       "\n",
       "    .dataframe thead th {\n",
       "        text-align: right;\n",
       "    }\n",
       "</style>\n",
       "<table border=\"1\" class=\"dataframe\">\n",
       "  <thead>\n",
       "    <tr style=\"text-align: right;\">\n",
       "      <th></th>\n",
       "      <th>trace</th>\n",
       "      <th>inline</th>\n",
       "      <th>crossline</th>\n",
       "      <th>Amplitude</th>\n",
       "    </tr>\n",
       "  </thead>\n",
       "  <tbody>\n",
       "    <tr>\n",
       "      <th>0</th>\n",
       "      <td>0</td>\n",
       "      <td>0</td>\n",
       "      <td>1</td>\n",
       "      <td>[-3779, -4808, -5511, -5421, -7800, -8821, -89...</td>\n",
       "    </tr>\n",
       "    <tr>\n",
       "      <th>1</th>\n",
       "      <td>1</td>\n",
       "      <td>0</td>\n",
       "      <td>2</td>\n",
       "      <td>[-3556, -4759, -5628, -5542, -7783, -8609, -86...</td>\n",
       "    </tr>\n",
       "    <tr>\n",
       "      <th>2</th>\n",
       "      <td>2</td>\n",
       "      <td>0</td>\n",
       "      <td>3</td>\n",
       "      <td>[-3445, -4734, -5746, -5699, -7867, -8492, -83...</td>\n",
       "    </tr>\n",
       "    <tr>\n",
       "      <th>3</th>\n",
       "      <td>3</td>\n",
       "      <td>0</td>\n",
       "      <td>4</td>\n",
       "      <td>[-3323, -4768, -5893, -5817, -7865, -8306, -80...</td>\n",
       "    </tr>\n",
       "    <tr>\n",
       "      <th>4</th>\n",
       "      <td>4</td>\n",
       "      <td>0</td>\n",
       "      <td>5</td>\n",
       "      <td>[-3376, -4907, -6050, -5876, -7803, -8150, -78...</td>\n",
       "    </tr>\n",
       "    <tr>\n",
       "      <th>...</th>\n",
       "      <td>...</td>\n",
       "      <td>...</td>\n",
       "      <td>...</td>\n",
       "      <td>...</td>\n",
       "    </tr>\n",
       "    <tr>\n",
       "      <th>595</th>\n",
       "      <td>595</td>\n",
       "      <td>0</td>\n",
       "      <td>596</td>\n",
       "      <td>[-3975, -5371, -6119, -5583, -7428, -8206, -86...</td>\n",
       "    </tr>\n",
       "    <tr>\n",
       "      <th>596</th>\n",
       "      <td>596</td>\n",
       "      <td>0</td>\n",
       "      <td>597</td>\n",
       "      <td>[-3858, -5323, -6170, -5669, -7473, -8137, -84...</td>\n",
       "    </tr>\n",
       "    <tr>\n",
       "      <th>597</th>\n",
       "      <td>597</td>\n",
       "      <td>0</td>\n",
       "      <td>598</td>\n",
       "      <td>[-3800, -5251, -6132, -5676, -7483, -8102, -83...</td>\n",
       "    </tr>\n",
       "    <tr>\n",
       "      <th>598</th>\n",
       "      <td>598</td>\n",
       "      <td>0</td>\n",
       "      <td>599</td>\n",
       "      <td>[-3866, -5169, -5930, -5514, -7424, -8189, -85...</td>\n",
       "    </tr>\n",
       "    <tr>\n",
       "      <th>599</th>\n",
       "      <td>599</td>\n",
       "      <td>0</td>\n",
       "      <td>600</td>\n",
       "      <td>[-4089, -5443, -6090, -5482, -7278, -8074, -85...</td>\n",
       "    </tr>\n",
       "  </tbody>\n",
       "</table>\n",
       "<p>600 rows × 4 columns</p>\n",
       "</div>"
      ],
      "text/plain": [
       "     trace  inline  crossline  \\\n",
       "0        0       0          1   \n",
       "1        1       0          2   \n",
       "2        2       0          3   \n",
       "3        3       0          4   \n",
       "4        4       0          5   \n",
       "..     ...     ...        ...   \n",
       "595    595       0        596   \n",
       "596    596       0        597   \n",
       "597    597       0        598   \n",
       "598    598       0        599   \n",
       "599    599       0        600   \n",
       "\n",
       "                                             Amplitude  \n",
       "0    [-3779, -4808, -5511, -5421, -7800, -8821, -89...  \n",
       "1    [-3556, -4759, -5628, -5542, -7783, -8609, -86...  \n",
       "2    [-3445, -4734, -5746, -5699, -7867, -8492, -83...  \n",
       "3    [-3323, -4768, -5893, -5817, -7865, -8306, -80...  \n",
       "4    [-3376, -4907, -6050, -5876, -7803, -8150, -78...  \n",
       "..                                                 ...  \n",
       "595  [-3975, -5371, -6119, -5583, -7428, -8206, -86...  \n",
       "596  [-3858, -5323, -6170, -5669, -7473, -8137, -84...  \n",
       "597  [-3800, -5251, -6132, -5676, -7483, -8102, -83...  \n",
       "598  [-3866, -5169, -5930, -5514, -7424, -8189, -85...  \n",
       "599  [-4089, -5443, -6090, -5482, -7278, -8074, -85...  \n",
       "\n",
       "[600 rows x 4 columns]"
      ]
     },
     "execution_count": 82,
     "metadata": {},
     "output_type": "execute_result"
    }
   ],
   "source": [
    "df.head(600)"
   ]
  },
  {
   "cell_type": "markdown",
   "id": "6bad8572",
   "metadata": {},
   "source": [
    "#### Now we Plot again the GRID"
   ]
  },
  {
   "cell_type": "code",
   "execution_count": 85,
   "id": "3b59b03d",
   "metadata": {},
   "outputs": [
    {
     "data": {
      "image/png": "[encoded data removed]",
      "text/plain": [
       "<Figure size 800x600 with 1 Axes>"
      ]
     },
     "metadata": {},
     "output_type": "display_data"
    }
   ],
   "source": [
    "\n",
    "import matplotlib.pyplot as plt\n",
    "\n",
    "cross = 40\n",
    "df2 = df.sort_values([\"inline\", \"crossline\"]) \\\n",
    "        .groupby(\"inline\") \\\n",
    "        .head(cross)\n",
    "\n",
    "plt.figure(figsize=(8,6))\n",
    "plt.scatter(df2[\"inline\"], df2[\"crossline\"], s=30)\n",
    "plt.xlabel(\"Inline\")\n",
    "plt.ylabel(\"Crossline\")\n",
    "plt.title(f\"only {cross} Crosslines per Line (GRID-TEST)\")\n",
    "plt.show()"
   ]
  }
 ],
 "metadata": {
  "kernelspec": {
   "display_name": "PAINDHS25",
   "language": "python",
   "name": "python3"
  },
  "language_info": {
   "codemirror_mode": {
    "name": "ipython",
    "version": 3
   },
   "file_extension": ".py",
   "mimetype": "text/x-python",
   "name": "python",
   "nbconvert_exporter": "python",
   "pygments_lexer": "ipython3",
   "version": "3.13.5"
  }
 },
 "nbformat": 4,
 "nbformat_minor": 5
}
