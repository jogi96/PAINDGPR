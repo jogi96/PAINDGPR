{
 "cells": [
  {
   "cell_type": "markdown",
   "id": "68ed78ab",
   "metadata": {},
   "source": [
    "## Testing Python Tools for importing GPR Data"
   ]
  },
  {
   "cell_type": "markdown",
   "id": "162da8d3",
   "metadata": {},
   "source": [
    "## Package obspy"
   ]
  },
  {
   "cell_type": "code",
   "execution_count": 31,
   "id": "7fa495a8",
   "metadata": {},
   "outputs": [],
   "source": [
    "import sys\n",
    "from pathlib import Path\n",
    "sys.path.append(str(Path.cwd().parent))\n",
    "from config import *\n",
    "\n",
    "from obspy.io.segy.segy import _read_segy\n",
    "import numpy as np\n",
    "import matplotlib.pyplot as plt\n",
    "st = _read_segy(TEST_FILE_DIR / \"UG3DQUERUNTERZUG.SGY\")\n",
    "\n",
    "\n"
   ]
  },
  {
   "cell_type": "markdown",
   "id": "1491e46a",
   "metadata": {},
   "source": [
    "## get the Header Information"
   ]
  },
  {
   "cell_type": "code",
   "execution_count": 22,
   "id": "6f405eb2",
   "metadata": {},
   "outputs": [
    {
     "name": "stdout",
     "output_type": "stream",
     "text": [
      "Binary File Header:\n",
      "\tjob_identification_number: 0\n",
      "\tline_number: 0\n",
      "\treel_number: 0\n",
      "\tnumber_of_data_traces_per_ensemble: 1\n",
      "\tnumber_of_auxiliary_traces_per_ensemble: 0\n",
      "\tsample_interval_in_microseconds: 49\n",
      "\tsample_interval_in_microseconds_of_original_field_recording: 0\n",
      "\tnumber_of_samples_per_data_trace: 400\n",
      "\tnumber_of_samples_per_data_trace_for_original_field_recording: 0\n",
      "\tdata_sample_format_code: 3\n",
      "\tensemble_fold: 1\n",
      "\ttrace_sorting_code: 0\n",
      "\tvertical_sum_code: 0\n",
      "\tsweep_frequency_at_start: 0\n",
      "\tsweep_frequency_at_end: 0\n",
      "\tsweep_length: 0\n",
      "\tsweep_type_code: 0\n",
      "\ttrace_number_of_sweep_channel: 0\n",
      "\tsweep_trace_taper_length_in_ms_at_start: 0\n",
      "\tsweep_trace_taper_length_in_ms_at_end: 0\n",
      "\ttaper_type: 0\n",
      "\tcorrelated_data_traces: 0\n",
      "\tbinary_gain_recovered: 0\n",
      "\tamplitude_recovery_method: 0\n",
      "\tmeasurement_system: 1\n",
      "\timpulse_signal_polarity: 0\n",
      "\tvibratory_polarity_code: 0\n",
      "\tunassigned_1: b'\\x00\\x00\\x00\\x00\\x00\\x00\\x00\\x00\\x00\\x00\\x00\\x00\\x00\\x00\\x00\\x00\\x00\\x00\\x00\\x00\\x00\\x00\\x00\\x00\\x00\\x00\\x00\\x00\\x00\\x00\\x00\\x00\\x00\\x00\\x00\\x00\\x00\\x00\\x00\\x00\\x00\\x00\\x00\\x00\\x00\\x00\\x00\\x00\\x00\\x00\\x00\\x00\\x00\\x00\\x00\\x00\\x00\\x00\\x00\\x00\\x00\\x00\\x00\\x00\\x00\\x00\\x00\\x00\\x00\\x00\\x00\\x00\\x00\\x00\\x00\\x00\\x00\\x00\\x00\\x00\\x00\\x00\\x00\\x00\\x00\\x00\\x00\\x00\\x00\\x00\\x00\\x00\\x00\\x00\\x00\\x00\\x00\\x00\\x00\\x00\\x00\\x00\\x00\\x00\\x00\\x00\\x00\\x00\\x00\\x00\\x00\\x00\\x00\\x00\\x00\\x00\\x00\\x00\\x00\\x00\\x00\\x00\\x00\\x00\\x00\\x00\\x00\\x00\\x00\\x00\\x00\\x00\\x00\\x00\\x00\\x00\\x00\\x00\\x00\\x00\\x00\\x00\\x00\\x00\\x00\\x00\\x00\\x00\\x00\\x00\\x00\\x00\\x00\\x00\\x00\\x00\\x00\\x00\\x00\\x00\\x00\\x00\\x00\\x00\\x00\\x00\\x00\\x00\\x00\\x00\\x00\\x00\\x00\\x00\\x00\\x00\\x00\\x00\\x00\\x00\\x00\\x00\\x00\\x00\\x00\\x00\\x00\\x00\\x00\\x00\\x00\\x00\\x00\\x00\\x00\\x00\\x00\\x00\\x00\\x00\\x00\\x00\\x00\\x00\\x00\\x00\\x00\\x00\\x00\\x00\\x00\\x00\\x00\\x00\\x00\\x00\\x00\\x00\\x00\\x00\\x00\\x00\\x00\\x00\\x00\\x00\\x00\\x00\\x00\\x00\\x00\\x00\\x00\\x00\\x00\\x00\\x00\\x00\\x00\\x00'\n",
      "\tseg_y_format_revision_number: 0\n",
      "\tfixed_length_trace_flag: 0\n",
      "\tnumber_of_3200_byte_ext_file_header_records_following: 0\n",
      "\tunassigned_2: b'\\x00\\x00\\x00\\x00\\x00\\x00\\x00\\x00\\x00\\x00\\x00\\x00\\x00\\x00\\x00\\x00\\x00\\x00\\x00\\x00\\x00\\x00\\x00\\x00\\x00\\x00\\x00\\x00\\x00\\x00\\x00\\x00\\x00\\x00\\x00\\x00\\x00\\x00\\x00\\x00\\x00\\x00\\x00\\x00\\x00\\x00\\x00\\x00\\x00\\x00\\x00\\x00\\x00\\x00\\x00\\x00\\x00\\x00\\x00\\x00\\x00\\x00\\x00\\x00\\x00\\x00\\x00\\x00\\x00\\x00\\x00\\x00\\x00\\x00\\x00\\x00\\x00\\x00\\x00\\x00\\x00\\x00\\x00\\x00\\x00\\x00\\x00\\x00\\x00\\x00\\x00\\x00\\x00\\x00'\n"
     ]
    }
   ],
   "source": [
    "binary_header = st.binary_file_header\n",
    "print(binary_header)"
   ]
  },
  {
   "cell_type": "code",
   "execution_count": 17,
   "id": "3e054678",
   "metadata": {},
   "outputs": [
    {
     "name": "stdout",
     "output_type": "stream",
     "text": [
      "Trace 1: X=0, Y=0\n",
      "Trace 2: X=0, Y=0\n",
      "Trace 3: X=0, Y=0\n",
      "Trace 4: X=0, Y=0\n",
      "Trace 5: X=0, Y=0\n",
      "Trace 6: X=0, Y=0\n",
      "Trace 7: X=0, Y=0\n",
      "Trace 8: X=0, Y=0\n",
      "Trace 9: X=0, Y=0\n",
      "Trace 10: X=0, Y=0\n",
      "Trace 11: X=0, Y=0\n",
      "Trace 12: X=0, Y=0\n",
      "Trace 13: X=0, Y=0\n",
      "Trace 14: X=0, Y=0\n",
      "Trace 15: X=0, Y=0\n",
      "Trace 16: X=0, Y=0\n",
      "Trace 17: X=0, Y=0\n",
      "Trace 18: X=0, Y=0\n",
      "Trace 19: X=0, Y=0\n",
      "Trace 20: X=0, Y=0\n",
      "Trace 21: X=0, Y=0\n",
      "Trace 22: X=0, Y=0\n",
      "Trace 23: X=0, Y=0\n",
      "Trace 24: X=0, Y=0\n",
      "Trace 25: X=0, Y=0\n",
      "Trace 26: X=0, Y=0\n",
      "Trace 27: X=0, Y=0\n",
      "Trace 28: X=0, Y=0\n",
      "Trace 29: X=0, Y=0\n",
      "Trace 30: X=0, Y=0\n",
      "Trace 31: X=0, Y=0\n",
      "Trace 32: X=0, Y=0\n",
      "Trace 33: X=0, Y=0\n",
      "Trace 34: X=0, Y=0\n",
      "Trace 35: X=0, Y=0\n",
      "Trace 36: X=0, Y=0\n",
      "Trace 37: X=0, Y=0\n",
      "Trace 38: X=0, Y=0\n",
      "Trace 39: X=0, Y=0\n",
      "Trace 40: X=0, Y=0\n",
      "Trace 41: X=0, Y=0\n",
      "Trace 42: X=0, Y=0\n",
      "Trace 43: X=0, Y=0\n",
      "Trace 44: X=0, Y=0\n",
      "Trace 45: X=0, Y=0\n",
      "Trace 46: X=0, Y=0\n",
      "Trace 47: X=0, Y=0\n",
      "Trace 48: X=0, Y=0\n",
      "Trace 49: X=0, Y=0\n",
      "Trace 50: X=0, Y=0\n",
      "Trace 51: X=0, Y=0\n",
      "Trace 52: X=0, Y=0\n",
      "Trace 53: X=0, Y=0\n",
      "Trace 54: X=0, Y=0\n",
      "Trace 55: X=0, Y=0\n",
      "Trace 56: X=0, Y=0\n",
      "Trace 57: X=0, Y=0\n",
      "Trace 58: X=0, Y=0\n",
      "Trace 59: X=0, Y=0\n",
      "Trace 60: X=0, Y=0\n",
      "Trace 61: X=0, Y=0\n",
      "Trace 62: X=0, Y=0\n",
      "Trace 63: X=0, Y=0\n",
      "Trace 64: X=0, Y=0\n",
      "Trace 65: X=0, Y=0\n",
      "Trace 66: X=0, Y=0\n",
      "Trace 67: X=0, Y=0\n",
      "Trace 68: X=0, Y=0\n",
      "Trace 69: X=0, Y=0\n",
      "Trace 70: X=0, Y=0\n",
      "Trace 71: X=0, Y=0\n",
      "Trace 72: X=0, Y=0\n",
      "Trace 73: X=0, Y=0\n",
      "Trace 74: X=0, Y=0\n",
      "Trace 75: X=0, Y=0\n",
      "Trace 76: X=0, Y=0\n",
      "Trace 77: X=0, Y=0\n",
      "Trace 78: X=0, Y=0\n",
      "Trace 79: X=0, Y=0\n",
      "Trace 80: X=0, Y=0\n",
      "Trace 81: X=0, Y=0\n",
      "Trace 82: X=0, Y=0\n",
      "Trace 83: X=0, Y=0\n",
      "Trace 84: X=0, Y=0\n",
      "Trace 85: X=0, Y=0\n",
      "Trace 86: X=0, Y=0\n",
      "Trace 87: X=0, Y=0\n",
      "Trace 88: X=1, Y=0\n",
      "Trace 89: X=1, Y=0\n",
      "Trace 90: X=1, Y=0\n"
     ]
    }
   ],
   "source": [
    "for i, tr in enumerate(st.traces[:90]):  # z. B. erste 10 Traces\n",
    "    print(\n",
    "        f\"Trace {i+1}: \"\n",
    "        f\"X={tr.header.source_coordinate_x}, \"\n",
    "        f\"Y={tr.header.source_coordinate_y}\"\n",
    "    )\n"
   ]
  },
  {
   "cell_type": "code",
   "execution_count": 11,
   "id": "9070b44a",
   "metadata": {},
   "outputs": [
    {
     "name": "stdout",
     "output_type": "stream",
     "text": [
      "trace_sequence_number_within_line: 1\n",
      "trace_sequence_number_within_segy_file: 1\n",
      "original_field_record_number: 1\n",
      "trace_number_within_the_original_field_record: 1\n",
      "energy_source_point_number: 1\n",
      "ensemble_number: 1\n",
      "trace_number_within_the_ensemble: 0\n",
      "trace_identification_code: 1\n",
      "number_of_vertically_summed_traces_yielding_this_trace: 0\n",
      "number_of_horizontally_stacked_traces_yielding_this_trace: 0\n",
      "data_use: 0\n",
      "distance_from_center_of_the_source_point_to_the_center_of_the_receiver_group: 0\n",
      "receiver_group_elevation: 0\n",
      "surface_elevation_at_source: 0\n",
      "source_depth_below_surface: 0\n",
      "datum_elevation_at_receiver_group: 0\n",
      "datum_elevation_at_source: 0\n",
      "water_depth_at_source: 0\n",
      "water_depth_at_group: 0\n",
      "scalar_to_be_applied_to_all_elevations_and_depths: 1\n",
      "scalar_to_be_applied_to_all_coordinates: 1\n",
      "source_coordinate_x: 0\n",
      "source_coordinate_y: 0\n",
      "group_coordinate_x: 0\n",
      "group_coordinate_y: 0\n",
      "coordinate_units: 0\n",
      "weathering_velocity: 0\n",
      "subweathering_velocity: 0\n",
      "uphole_time_at_source_in_ms: 0\n",
      "uphole_time_at_group_in_ms: 0\n",
      "source_static_correction_in_ms: 0\n",
      "group_static_correction_in_ms: 0\n",
      "total_static_applied_in_ms: 0\n",
      "lag_time_A: 0\n",
      "lag_time_B: 0\n",
      "delay_recording_time: 0\n",
      "mute_time_start_time_in_ms: 0\n",
      "mute_time_end_time_in_ms: 0\n",
      "number_of_samples_in_this_trace: 400\n",
      "sample_interval_in_ms_for_this_trace: 49\n",
      "gain_type_of_field_instruments: 0\n",
      "instrument_gain_constant: 0\n",
      "instrument_early_or_initial_gain: 0\n",
      "correlated: 0\n",
      "sweep_frequency_at_start: 0\n",
      "sweep_frequency_at_end: 0\n",
      "sweep_length_in_ms: 0\n",
      "sweep_type: 0\n",
      "sweep_trace_taper_length_at_start_in_ms: 0\n",
      "sweep_trace_taper_length_at_end_in_ms: 0\n",
      "taper_type: 0\n",
      "alias_filter_frequency: 0\n",
      "alias_filter_slope: 0\n",
      "notch_filter_frequency: 0\n",
      "notch_filter_slope: 0\n",
      "low_cut_frequency: 0\n",
      "high_cut_frequency: 0\n",
      "low_cut_slope: 0\n",
      "high_cut_slope: 0\n",
      "year_data_recorded: 0\n",
      "day_of_year: 0\n",
      "hour_of_day: 0\n",
      "minute_of_hour: 0\n",
      "second_of_minute: 0\n",
      "time_basis_code: 0\n",
      "trace_weighting_factor: 0\n",
      "geophone_group_number_of_roll_switch_position_one: 0\n",
      "geophone_group_number_of_trace_number_one: 0\n",
      "geophone_group_number_of_last_trace: 0\n",
      "gap_size: 0\n",
      "over_travel_associated_with_taper: 0\n",
      "x_coordinate_of_ensemble_position_of_this_trace: 0\n",
      "y_coordinate_of_ensemble_position_of_this_trace: 0\n",
      "for_3d_poststack_data_this_field_is_for_in_line_number: 0\n",
      "for_3d_poststack_data_this_field_is_for_cross_line_number: 1\n",
      "shotpoint_number: 0\n",
      "scalar_to_be_applied_to_the_shotpoint_number: 0\n",
      "trace_value_measurement_unit: 0\n",
      "transduction_constant_mantissa: 0\n",
      "transduction_constant_exponent: 0\n",
      "transduction_units: 0\n",
      "device_trace_identifier: 0\n",
      "scalar_to_be_applied_to_times: 0\n",
      "source_type_orientation: 0\n",
      "source_energy_direction_mantissa: 0\n",
      "source_energy_direction_exponent: 0\n",
      "source_measurement_mantissa: 0\n",
      "source_measurement_exponent: 0\n",
      "source_measurement_unit: 0\n",
      "\n"
     ]
    }
   ],
   "source": [
    "trace_headers = st.traces[0].header\n",
    "print(trace_headers)"
   ]
  },
  {
   "cell_type": "code",
   "execution_count": 32,
   "id": "3ca0d192",
   "metadata": {},
   "outputs": [
    {
     "name": "stdout",
     "output_type": "stream",
     "text": [
      "(400, 42660)\n"
     ]
    }
   ],
   "source": [
    "data = np.array([tr.data for tr in st.traces]).T  # Transpose für richtiges Orientieren\n",
    "\n",
    "print(data.shape)  # (samples, traces)\n",
    "dt = st.binary_file_header.sample_interval_in_microseconds / 1e6  # Sekunden\n",
    "time = np.arange(data.shape[0]) * dt * 1e9  # in Nanosekunden (für GPR üblich)\n",
    "\n"
   ]
  },
  {
   "cell_type": "code",
   "execution_count": 33,
   "id": "0eab7a57",
   "metadata": {},
   "outputs": [
    {
     "data": {
      "text/plain": [
       "array([ -7954, -14382, -21590, -18593, -11697,  -2634,   5107,  10469,\n",
       "        13098,  11081,   9894,   7825,   4591,   -337,  -5724,  -9090,\n",
       "        -8422,  -3653,   2283,   5213,   2760,  -3955, -10793, -13491,\n",
       "       -10573,  -4151,   2466,   7238,  10706,  13617,  15462,  14045,\n",
       "        10021,   4616,   -549,  -4340,  -7183, -10581, -15642, -20773,\n",
       "       -21794, -15858,  -5007,   5889,  12844,  14211,  11213,   7196,\n",
       "         5364,   6286,   8059,   8350,   5871,   1222,  -3653,  -7080,\n",
       "        -8484,  -7888,  -6330,  -4828,  -3516,  -2699,  -2247,  -1589,\n",
       "          300,   3969,   8224,   9996,   6571,  -1842, -11499, -16344,\n",
       "       -11908,   -229,  11755,  17664,  16167,   9285,   1627,  -3414,\n",
       "        -6054,  -8436, -11363, -13318, -12144,  -6712,   1343,   8037,\n",
       "        10418,   8504,   4781,   2138,   1744,   2708,   3329,   2367,\n",
       "         -255,  -3443,  -5652,  -6004,  -4266,  -1141,   1683,   2818,\n",
       "         1958,    -56,  -1834,  -2000,     42,   3583,   7023,   8323,\n",
       "         6154,    719,  -6317, -12612, -15669, -14083,  -8298,  -1194,\n",
       "         4908,   9147,  12009,  14060,  15344,  14664,  10862,   3976,\n",
       "        -4351, -11554, -15779, -17006, -16366, -14710, -11960,  -7600,\n",
       "        -1228,   6280,  12998,  16953,  17304,  14242,   9589,   4940,\n",
       "         1247,  -1239,  -2730,  -3519,  -4087,  -4665,  -5526,  -6816,\n",
       "        -8365,  -9551,  -9555,  -7980,  -4965,  -1082,   3093,   7311,\n",
       "        11218,  14346,  16005,  15320,  12082,   6989,    733,  -5651,\n",
       "       -11163, -15199, -17055, -16519, -13644,  -8474,  -2168,   3835,\n",
       "         8098,   9944,   9588,   8234,   6977,   6147,   5397,   4328,\n",
       "         2507,    760,   -781,  -2085,  -3291,  -4721,  -6037,  -7038,\n",
       "        -6978,  -6356,  -4822,  -2849,   -390,   2607,   5382,   6642,\n",
       "         6414,   4293,   2061,    465,   -238,   -246,      0,    263,\n",
       "            0,   -276,   -281,   -570,   -875,  -1200,  -1858,  -1578,\n",
       "         -641,    656,   1351,   1036,      0,   -716,      0,   1494,\n",
       "         2315,    798,  -2842,  -6127,  -6997,  -4600,   -428,   3522,\n",
       "         4557,   3763,   2388,   3359,   6298,   9378,  10084,   6206,\n",
       "            0,  -5949,  -9283,  -9935, -10072, -10812, -12260, -11435,\n",
       "        -7459,    636,   8354,  12332,  13166,  12047,  12320,  14059,\n",
       "        15140,  12477,   3701,  -8972, -18924, -22377, -18108, -10417,\n",
       "        -3257,   -827,  -1678,  -3388,  -1722,   2629,   7985,   9908,\n",
       "         8269,   4675,   3788,   6718,  10750,  10959,   7065,  -2033,\n",
       "        -9154, -12278, -10392,  -7421,  -6525,  -7763,  -7824,  -4475,\n",
       "        -1123,   1123,   1131,   1149,   4700,  14269,  23873,  25077,\n",
       "        14331,  -3584, -17051, -21051, -13725,  -4999,  -1251,  -2506,\n",
       "        -5021,  -5117,  -1304,   1307,   1316,      0,   1327,   6660,\n",
       "        10827,  10863,   5459,  -1383,  -4168,  -2786,   1399,   4219,\n",
       "         4231,      0,  -2854,  -5726,  -7226, -10143, -11699,  -8788,\n",
       "        -1466,   5865,  11814,  10515,   4520,      0,   1536,   9224,\n",
       "        13851,  10798,  -1543, -13929, -18572, -13929,  -6215,  -1563,\n",
       "        -3127,  -6269,  -4706,   6275,  17240,  20404,  12596,  -3153,\n",
       "       -12763, -11252,  -1608,   9689,   9743,      0, -12990, -18018,\n",
       "       -11486,   1649,   9896,  11545,   6643,   1661,  -1672,   1682,\n",
       "         5045,   6727,   8408,   6728,   1682,  -6727, -15127, -20169,\n",
       "       -16817,  -6736,   5062,   8437,   3375,  -5062,  -8437,  -1690,\n",
       "         8452,  16965,  13572,   3393,  -5089,  -6786,  -1696,   6786,\n",
       "        10142,  10141,   6760,   5070,      0,  -6740, -16771, -21630],\n",
       "      dtype=int16)"
      ]
     },
     "execution_count": 33,
     "metadata": {},
     "output_type": "execute_result"
    }
   ],
   "source": [
    "data[:, 10]"
   ]
  },
  {
   "cell_type": "code",
   "execution_count": 40,
   "id": "212b7948",
   "metadata": {},
   "outputs": [
    {
     "name": "stdout",
     "output_type": "stream",
     "text": [
      "   trace_index  source_x  source_y  group_x  group_y  trace_seq_line\n",
      "0            0         0         0        0        0               1\n",
      "1            1         0         0        0        0               2\n",
      "2            2         0         0        0        0               3\n",
      "3            3         0         0        0        0               4\n",
      "4            4         0         0        0        0               5\n"
     ]
    }
   ],
   "source": [
    "import pandas as pd\n",
    "\n",
    "# Erstelle eine Liste von Dictionaries – je Trace ein Eintrag\n",
    "trace_info = []\n",
    "for i, tr in enumerate(st.traces):\n",
    "    trace_info.append({\n",
    "        \"trace_index\": i,\n",
    "        \"source_x\": tr.header.source_coordinate_x,\n",
    "        \"source_y\": tr.header.source_coordinate_y,\n",
    "        \"group_x\": tr.header.group_coordinate_x,\n",
    "        \"group_y\": tr.header.group_coordinate_y,\n",
    "        \"trace_seq_line\": tr.header.trace_sequence_number_within_line\n",
    "    })\n",
    "\n",
    "# In ein DataFrame umwandeln\n",
    "df = pd.DataFrame(trace_info)\n",
    "df.to_csv(\"traces.csv\", index=False)\n",
    "# Ergebnisse ansehen\n",
    "print(df.head())\n"
   ]
  },
  {
   "cell_type": "code",
   "execution_count": 41,
   "id": "c5308599",
   "metadata": {},
   "outputs": [
    {
     "data": {
      "image/png": "[encoded data removed]",
      "text/plain": [
       "<Figure size 600x600 with 2 Axes>"
      ]
     },
     "metadata": {},
     "output_type": "display_data"
    }
   ],
   "source": [
    "import matplotlib.pyplot as plt\n",
    "\n",
    "plt.figure(figsize=(6,6))\n",
    "plt.scatter(df[\"group_x\"], df[\"group_y\"], s=8, c=df.index, cmap=\"viridis\")\n",
    "plt.xlabel(\"Group X\")\n",
    "plt.ylabel(\"Group Y\")\n",
    "plt.title(\"Trace-Positionen aus SEG-Y Headern\")\n",
    "plt.colorbar(label=\"Trace Index\")\n",
    "plt.show()\n"
   ]
  },
  {
   "cell_type": "code",
   "execution_count": 42,
   "id": "30f4ff24",
   "metadata": {},
   "outputs": [
    {
     "name": "stdout",
     "output_type": "stream",
     "text": [
      "Line at Y=0.000 -> 7110 traces\n",
      "Line at Y=1.000 -> 14220 traces\n",
      "Line at Y=2.000 -> 14220 traces\n",
      "Line at Y=3.000 -> 7110 traces\n"
     ]
    }
   ],
   "source": [
    "# Runde Y-Koordinaten leicht (wegen numerischen Rauschens)\n",
    "df[\"group_y_round\"] = df[\"group_y\"].round(3)\n",
    "\n",
    "# Linien automatisch gruppieren\n",
    "lines = df.groupby(\"group_y_round\")\n",
    "\n",
    "for y, line in lines:\n",
    "    print(f\"Line at Y={y:.3f} -> {len(line)} traces\")\n"
   ]
  },
  {
   "cell_type": "code",
   "execution_count": 25,
   "id": "d8f0b388",
   "metadata": {},
   "outputs": [
    {
     "data": {
      "application/vnd.jupyter.widget-view+json": {
       "model_id": "9ba11207420344cfb2b796d4b34e7bd9",
       "version_major": 2,
       "version_minor": 0
      },
      "text/plain": [
       "interactive(children=(IntSlider(value=0, description='trace', max=159191), Output()), _dom_classes=('widget-in…"
      ]
     },
     "metadata": {},
     "output_type": "display_data"
    },
    {
     "data": {
      "text/plain": [
       "<function __main__.show_trace(trace=0)>"
      ]
     },
     "execution_count": 25,
     "metadata": {},
     "output_type": "execute_result"
    }
   ],
   "source": [
    "import numpy as np\n",
    "import matplotlib.pyplot as plt\n",
    "from ipywidgets import interact\n",
    "\n",
    "def show_trace(trace=0):\n",
    "    fig, axs = plt.subplots(1, 2, figsize=(10, 6), gridspec_kw={'width_ratios':[3,1]})\n",
    "\n",
    "    # --- Radargramm links ---\n",
    "    axs[0].imshow(data, cmap=\"gray\", aspect=\"auto\",\n",
    "                  extent=[0, data.shape[1], time[-1], time[0]])\n",
    "    axs[0].axvline(trace, color=\"red\", lw=2)\n",
    "    axs[0].set_xlabel(\"Trace number\")\n",
    "    axs[0].set_ylabel(\"Time [ns]\")\n",
    "    axs[0].set_title(\"Radargram\")\n",
    "\n",
    "    # --- Aktueller Trace rechts ---\n",
    "    axs[1].plot(data[:, trace], time, color=\"black\")\n",
    "    axs[1].invert_yaxis()\n",
    "    axs[1].set_xlabel(\"Amplitude\")\n",
    "    axs[1].set_title(f\"Trace {trace}\")\n",
    "\n",
    "    plt.tight_layout()\n",
    "    plt.show()\n",
    "\n",
    "interact(show_trace, trace=(0, data.shape[1]-1))\n"
   ]
  },
  {
   "cell_type": "code",
   "execution_count": 60,
   "id": "538ce5fc",
   "metadata": {},
   "outputs": [
    {
     "data": {
      "application/vnd.jupyter.widget-view+json": {
       "model_id": "ba4ef3cfaf7e490b90f584553ea66f1f",
       "version_major": 2,
       "version_minor": 0
      },
      "text/plain": [
       "interactive(children=(IntSlider(value=0, description='center', max=42659), Output()), _dom_classes=('widget-in…"
      ]
     },
     "metadata": {},
     "output_type": "display_data"
    },
    {
     "data": {
      "text/plain": [
       "<function __main__.show_window(center=0)>"
      ]
     },
     "execution_count": 60,
     "metadata": {},
     "output_type": "execute_result"
    }
   ],
   "source": [
    "import numpy as np\n",
    "import matplotlib.pyplot as plt\n",
    "from ipywidgets import interact\n",
    "\n",
    "# Beispiel: dein Radargramm\n",
    "# data = np.array([tr.data for tr in st.traces]).T\n",
    "# dt = st.binary_file_header.sample_interval_in_microseconds / 1e6\n",
    "# time = np.arange(data.shape[0]) * dt * 1e9  # ns\n",
    "\n",
    "# --- Parameter ---\n",
    "window = 200  # Anzahl Traces im sichtbaren Fenster\n",
    "\n",
    "def show_window(center=0):\n",
    "    start = max(0, center - window//2)\n",
    "    end = min(data.shape[1], center + window//2)\n",
    "    \n",
    "    plt.figure(figsize=(10, 6))\n",
    "    plt.imshow(\n",
    "        data[:, start:end],\n",
    "        cmap=\"gray\",\n",
    "        aspect=\"auto\",\n",
    "        extent=[start, end, time[-1], time[0]]\n",
    "    )\n",
    "    plt.xlabel(\"Trace number\")\n",
    "    plt.ylabel(\"Time [ns]\")\n",
    "    plt.title(f\"Traces {start} – {end}\")\n",
    "    plt.show()\n",
    "\n",
    "interact(show_window, center=(0, data.shape[1]-1))\n"
   ]
  }
 ],
 "metadata": {
  "kernelspec": {
   "display_name": "PAINDHS25",
   "language": "python",
   "name": "python3"
  },
  "language_info": {
   "codemirror_mode": {
    "name": "ipython",
    "version": 3
   },
   "file_extension": ".py",
   "mimetype": "text/x-python",
   "name": "python",
   "nbconvert_exporter": "python",
   "pygments_lexer": "ipython3",
   "version": "3.13.5"
  }
 },
 "nbformat": 4,
 "nbformat_minor": 5
}
