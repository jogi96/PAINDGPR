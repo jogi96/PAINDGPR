{
 "cells": [
  {
   "cell_type": "markdown",
   "id": "27e8a8c6",
   "metadata": {},
   "source": [
    "# Fitting Hyperbolas based in locations found with YOLO Model"
   ]
  },
  {
   "cell_type": "code",
   "execution_count": 1,
   "id": "9aaf4618",
   "metadata": {},
   "outputs": [],
   "source": [
    "#import libraries\n",
    "import numpy as np\n",
    "from ultralytics import YOLO\n",
    "import os\n",
    "\n",
    "#Setting Working directory\n",
    "import sys\n",
    "from pathlib import Path\n",
    "\n",
    "sys.path.append(str(Path.cwd().parent))\n",
    "\n",
    "#Import the config file so that only the Filename needs to be changed in the _read_segy function\n",
    "from config import *"
   ]
  },
  {
   "cell_type": "code",
   "execution_count": 2,
   "id": "f2ce5d44",
   "metadata": {},
   "outputs": [],
   "source": [
    "#Load trained Model\n",
    "model = YOLO(YOLO_MODEL_DIR)"
   ]
  },
  {
   "cell_type": "code",
   "execution_count": 3,
   "id": "4adf82f3",
   "metadata": {},
   "outputs": [],
   "source": [
    "from Pipeline.Datatoolkit import DatatoolKit\n",
    "\n",
    "dk = DatatoolKit(TEST_FILE_DIR , \"UG3DQUERUNTERZUG.SGY\")\n",
    "file = dk.LoadSGY()\n",
    "df = dk.create_df(file)"
   ]
  },
  {
   "cell_type": "code",
   "execution_count": 4,
   "id": "273d24c3",
   "metadata": {},
   "outputs": [],
   "source": [
    "def extract_bboxes(prediction_folder)-> list:\n",
    "    results = model.predict(source=prediction_folder, save = True, conf=0.1)\n",
    "    all_boxes = {}\n",
    "\n",
    "    for result in results:\n",
    "        img_name = os.path.basename(result.path)\n",
    "        if result.boxes is not None:\n",
    "            boxes = result.boxes.xyxy.cpu().numpy()\n",
    "            all_boxes[img_name] = boxes# Bounding boxes in (x1, y1, x2, y2) format\n",
    "        else:\n",
    "            all_boxes[img_name] = np.empty((0,4))       \n",
    "        \n",
    "    return all_boxes"
   ]
  },
  {
   "cell_type": "code",
   "execution_count": 5,
   "id": "645989dd",
   "metadata": {},
   "outputs": [
    {
     "name": "stdout",
     "output_type": "stream",
     "text": [
      "\n",
      "image 1/2 c:\\vscode\\PAINDGPR\\Data\\Testdata\\pictures\\UG3DQUERUNTERZUG.SGY_inline_18.png: 384x640 5 hyperbolas, 72.5ms\n",
      "image 2/2 c:\\vscode\\PAINDGPR\\Data\\Testdata\\pictures\\frame_0.jpg: 448x640 5 hyperbolas, 84.6ms\n",
      "Speed: 2.5ms preprocess, 78.6ms inference, 1.3ms postprocess per image at shape (1, 3, 448, 640)\n",
      "Results saved to \u001b[1mC:\\vscode\\PAINDGPR\\Notebooks\\runs\\detect\\predict6\u001b[0m\n"
     ]
    }
   ],
   "source": [
    "boxes = extract_bboxes(TEST_PIC_DIR)"
   ]
  },
  {
   "cell_type": "code",
   "execution_count": 6,
   "id": "90240612",
   "metadata": {},
   "outputs": [
    {
     "name": "stdout",
     "output_type": "stream",
     "text": [
      "{'UG3DQUERUNTERZUG.SGY_inline_18.png': array([[      675.2,      4.3947,         711,      52.558],\n",
      "       [     560.25,      8.0632,      609.38,      53.285],\n",
      "       [     506.06,      5.9797,      553.49,      53.632],\n",
      "       [     347.53,      74.568,      493.78,      130.36],\n",
      "       [     609.33,      7.9033,      663.83,      51.816]], dtype=float32), 'frame_0.jpg': array([[     151.06,      48.751,      194.37,      103.59],\n",
      "       [     219.82,      44.851,      263.55,      108.34],\n",
      "       [     653.49,      47.296,      693.86,      112.03],\n",
      "       [     721.31,      47.675,       756.3,       104.8],\n",
      "       [      583.1,      46.415,      620.13,      95.713]], dtype=float32)}\n"
     ]
    }
   ],
   "source": [
    "print(boxes)"
   ]
  },
  {
   "cell_type": "code",
   "execution_count": 12,
   "id": "9e33a38c",
   "metadata": {},
   "outputs": [],
   "source": [
    "#translate bboxes coordinates to sgy date\n",
    "\n",
    "def bbox_to_data(df, bbox:dict,sample_interval=None):\n",
    "\n",
    "    results = {}\n",
    "\n",
    "    for img_name, box_list in bbox.items():\n",
    "        if \"_inline_\" not in img_name:\n",
    "            continue\n",
    "        inline_nr = int(img_name.split(\"_inline_\")[1].split(\".\")[0])\n",
    "        results[img_name] = []\n",
    "\n",
    "        for bbox in box_list:\n",
    "            x1,y1,x2,y2 = map(int, bbox)\n",
    "\n",
    "            sub = df[(df[\"inline\"] == inline_nr) & (df[\"crossline\"].between(x1,x2))]\n",
    "            sub = sub.sort_values(\"crossline\")\n",
    "            if sub.empty:\n",
    "                continue\n",
    "\n",
    "            amp_slice = np.vstack([\n",
    "                np.array(row[\"Amplitude\"])[y1:y2] for _, row in sub.iterrows()\n",
    "            ]).T\n",
    "\n",
    "            \n",
    "            if sample_interval is not None:\n",
    "                time_start_us = y1 * sample_interval\n",
    "                time_end_us = y2 * sample_interval\n",
    "            else:\n",
    "                time_start_us = time_end_us = None\n",
    "\n",
    "            results[img_name].append({\n",
    "                \"bbox\": bbox,\n",
    "                \"inline\": inline_nr,\n",
    "                \"crossline_min\": int(sub[\"crossline\"].min()),\n",
    "                \"crossline_max\": int(sub[\"crossline\"].max()),\n",
    "                \"sample_start\": y1,\n",
    "                \"sample_end\": y2,\n",
    "                \"time_start_us\": time_start_us,\n",
    "                \"time_end_us\": time_end_us,\n",
    "                \"amplitudes\": amp_slice\n",
    "            })\n",
    "\n",
    "    return results\n"
   ]
  },
  {
   "cell_type": "code",
   "execution_count": 13,
   "id": "c9d23229",
   "metadata": {},
   "outputs": [],
   "source": [
    "results = bbox_to_data(df, boxes)"
   ]
  },
  {
   "cell_type": "code",
   "execution_count": 14,
   "id": "e02b8162",
   "metadata": {},
   "outputs": [
    {
     "name": "stdout",
     "output_type": "stream",
     "text": [
      "{'UG3DQUERUNTERZUG.SGY_inline_18.png': [{'amplitudes': array([[-10005, -10476, -10493, ..., -10000, -10117, -10280],\n",
      "       [ -5132,  -6361,  -6507, ...,  -4448,  -3707,  -3276],\n",
      "       [ -1477,  -2626,  -2711, ...,   -302,    525,   1211],\n",
      "       ...,\n",
      "       [  3619,   1795,    208, ...,   5750,   6941,   6843],\n",
      "       [  3774,   2249,    451, ...,   2483,   5099,   6165],\n",
      "       [  2285,   2020,   1203, ...,   -880,   1962,   3753]], shape=(48, 37), dtype=int16),\n",
      "                                         'bbox': array([      675.2,      4.3947,         711,      52.558], dtype=float32),\n",
      "                                         'crossline_max': 711,\n",
      "                                         'crossline_min': 675,\n",
      "                                         'inline': 18,\n",
      "                                         'sample_end': 52,\n",
      "                                         'sample_start': 4,\n",
      "                                         'time_end_us': None,\n",
      "                                         'time_start_us': None},\n",
      "                                        {'amplitudes': array([[ 9715,  9632,  9748, ..., 10163,  9900,  9442],\n",
      "       [17092, 16667, 16205, ..., 12533, 13195, 13522],\n",
      "       [20517, 20008, 19229, ..., 13907, 15239, 16246],\n",
      "       ...,\n",
      "       [ -988, -1807, -2860, ...,  2959,  2760,  2834],\n",
      "       [ 1248,  -260, -1881, ...,   422,   974,  1648],\n",
      "       [ 2086,   926,     5, ..., -2044,  -276,  1329]], shape=(45, 50), dtype=int16),\n",
      "                                         'bbox': array([     560.25,      8.0632,      609.38,      53.285], dtype=float32),\n",
      "                                         'crossline_max': 609,\n",
      "                                         'crossline_min': 560,\n",
      "                                         'inline': 18,\n",
      "                                         'sample_end': 53,\n",
      "                                         'sample_start': 8,\n",
      "                                         'time_end_us': None,\n",
      "                                         'time_start_us': None},\n",
      "                                        {'amplitudes': array([[  1908,   1227,    719, ..., -10252, -11287, -12208],\n",
      "       [  7509,   6828,   5991, ...,  -7167,  -7682,  -8020],\n",
      "       [  9921,   9442,   8582, ...,  -2019,  -1623,  -1020],\n",
      "       ...,\n",
      "       [ -2201,  -1122,   1057, ...,   3453,   2873,   3358],\n",
      "       [ -2348,  -1360,    480, ...,   5499,   3959,   2150],\n",
      "       [  -211,    112,    388, ...,   4496,   3064,    458]], shape=(48, 48), dtype=int16),\n",
      "                                         'bbox': array([     506.06,      5.9797,      553.49,      53.632], dtype=float32),\n",
      "                                         'crossline_max': 553,\n",
      "                                         'crossline_min': 506,\n",
      "                                         'inline': 18,\n",
      "                                         'sample_end': 53,\n",
      "                                         'sample_start': 5,\n",
      "                                         'time_end_us': None,\n",
      "                                         'time_start_us': None},\n",
      "                                        {'amplitudes': array([[  7777,   2097,  -1587, ...,  -9831,  -7554,  -5529],\n",
      "       [  3105,  -3199,  -7518, ...,   3228,   4911,   5330],\n",
      "       [ -4922, -11607, -15579, ...,  13145,  13815,  13190],\n",
      "       ...,\n",
      "       [  -241,  -5452,  -8977, ...,  -8224,  -7380,  -6356],\n",
      "       [  1315,  -6104, -10642, ...,  -6542,  -6104,  -5321],\n",
      "       [  3862,  -3830,  -8271, ...,  -3637,  -3637,  -3186]], shape=(56, 147), dtype=int16),\n",
      "                                         'bbox': array([     347.53,      74.568,      493.78,      130.36], dtype=float32),\n",
      "                                         'crossline_max': 493,\n",
      "                                         'crossline_min': 347,\n",
      "                                         'inline': 18,\n",
      "                                         'sample_end': 130,\n",
      "                                         'sample_start': 74,\n",
      "                                         'time_end_us': None,\n",
      "                                         'time_start_us': None},\n",
      "                                        {'amplitudes': array([[ 2097,  1297,   858, ...,  1338,   835,   401],\n",
      "       [ 9442,  8792,  8092, ...,  7934,  7691,  7547],\n",
      "       [13522, 13513, 13167, ..., 11325, 11610, 11944],\n",
      "       ...,\n",
      "       [ 3339,  3401,  3380, ...,  3852,  2634,  1537],\n",
      "       [ 3823,  4155,  4321, ..., -1284, -3198, -4708],\n",
      "       [ 2834,  3085,  3340, ..., -4181, -6534, -8093]], shape=(44, 55), dtype=int16),\n",
      "                                         'bbox': array([     609.33,      7.9033,      663.83,      51.816], dtype=float32),\n",
      "                                         'crossline_max': 663,\n",
      "                                         'crossline_min': 609,\n",
      "                                         'inline': 18,\n",
      "                                         'sample_end': 51,\n",
      "                                         'sample_start': 7,\n",
      "                                         'time_end_us': None,\n",
      "                                         'time_start_us': None}]}\n"
     ]
    }
   ],
   "source": [
    "from pprint import pprint\n",
    "pprint(results)"
   ]
  },
  {
   "cell_type": "markdown",
   "id": "18afdb65",
   "metadata": {},
   "source": [
    "## Edge Detection on bounding boxes"
   ]
  },
  {
   "cell_type": "markdown",
   "id": "7b7fa0d3",
   "metadata": {},
   "source": [
    "https://www.ultralytics.com/blog/edge-detection-in-image-processing-explained\n",
    "\n",
    "https://blog.roboflow.com/edge-detection/\n",
    "\n"
   ]
  },
  {
   "cell_type": "markdown",
   "id": "f44b71d5",
   "metadata": {},
   "source": [
    "#### Canny Edge Detection"
   ]
  },
  {
   "cell_type": "code",
   "execution_count": 19,
   "id": "b7ac6b01",
   "metadata": {},
   "outputs": [],
   "source": [
    "import cv2\n",
    "import numpy as np\n",
    "\n",
    "sigma = 1\n",
    "low = 0.3\n",
    "high = 0.7\n",
    "\n",
    "edge_results = {}\n",
    "\n",
    "for img_name , entries in results.items():\n",
    "    edge_results[img_name] = []\n",
    "\n",
    "    for e in entries:\n",
    "        amp = e[\"amplitudes\"].astype(float)\n",
    "\n",
    "        #normalize\n",
    "        img = (amp - np.min(amp)) / (np.max(amp) - np.min(amp) + 1e-9)\n",
    "        img =  (img * 255).astype(np.uint8)\n",
    "\n",
    "        blurred = cv2.GaussianBlur(img, (3,3), sigma)\n",
    "        edges = cv2.Canny(blurred, int(low *255), int(high*255))\n",
    "\n",
    "        e_new = e.copy()\n",
    "        e_new[\"edges\"] = edges\n",
    "        edge_results[img_name].append(e_new)\n"
   ]
  },
  {
   "cell_type": "code",
   "execution_count": 20,
   "id": "e43f3273",
   "metadata": {},
   "outputs": [],
   "source": [
    "import matplotlib.pyplot as plt\n",
    "\n",
    "outputdir = EDGE_DETECT_DIR\n",
    "\n",
    "\n",
    "\n",
    "for img_name, entries in edge_results.items():\n",
    "    base = os.path.splitext(img_name)[0]\n",
    "    for idx, e in enumerate(entries):\n",
    "        if \"edges\" not in e:\n",
    "            continue\n",
    "\n",
    "        edges = e[\"edges\"]\n",
    "        if edges.dtype != np.uint8:\n",
    "            edges = np.clip(edges, 0, 255).astype(np.uint8)\n",
    "\n",
    "        out_path = os.path.join(outputdir, f\"{base}_bbox{idx+1}_edges.png\")\n",
    "        cv2.imwrite(out_path, edges)\n",
    "        "
   ]
  }
 ],
 "metadata": {
  "kernelspec": {
   "display_name": "PAINDHS25",
   "language": "python",
   "name": "python3"
  },
  "language_info": {
   "codemirror_mode": {
    "name": "ipython",
    "version": 3
   },
   "file_extension": ".py",
   "mimetype": "text/x-python",
   "name": "python",
   "nbconvert_exporter": "python",
   "pygments_lexer": "ipython3",
   "version": "3.13.5"
  }
 },
 "nbformat": 4,
 "nbformat_minor": 5
}
